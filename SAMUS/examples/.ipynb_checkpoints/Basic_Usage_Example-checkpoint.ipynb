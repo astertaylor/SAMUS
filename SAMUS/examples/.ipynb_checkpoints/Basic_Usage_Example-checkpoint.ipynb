{
 "cells": [
  {
   "cell_type": "markdown",
   "id": "5460e1db",
   "metadata": {},
   "source": [
    "This is a basic example of the usage of `SAMUS` for asteroid simulations. It simulates an ellipsoid of size 100\\:100\\:50, on a short trajectory given by **example_traj.csv**.\n",
    "\n",
    "Note that this example is quite slow on Jupyter Notebook. It is recommended that you run this code via the similar `.py` script in this folder, and run the command `mpirun -n 1 python3 basic_usage_example.py` to execute this. \n",
    "\n",
    "Firstly, we import the necessary packages for this example."
   ]
  },
  {
   "cell_type": "code",
   "execution_count": 8,
   "id": "5ee27f2b",
   "metadata": {},
   "outputs": [],
   "source": [
    "import SAMUS"
   ]
  },
  {
   "cell_type": "markdown",
   "id": "aa5df304",
   "metadata": {},
   "source": [
    "Now, we set several parameters for the model. \n",
    "\n",
    "We use a density of 0.5 g/cm<sup>3</sup>, which is relatively standard for Solar System comets. \n",
    "\n",
    "We use a period of 10 hours, which is also relatively standard. \n",
    "\n",
    "We use an unrefined mesh. \n",
    "\n",
    "We set the rotation axis to be (1,0,1). \n",
    "\n",
    "The dynamic viscosity is set to a value of 10<sup>6</sup> poise, which is relatively high for terrestial fluids, but low for ices. \n",
    "\n",
    "We also establish the body principal semi-major axis dimensions to be 100 m, 100 m, 50 m."
   ]
  },
  {
   "cell_type": "code",
   "execution_count": 9,
   "id": "697c3bfc",
   "metadata": {},
   "outputs": [],
   "source": [
    "rho = 0.5 # density\n",
    "\n",
    "p = 10 # period, hours\n",
    "\n",
    "n = 0 # number of mesh refinements. Increasing this number significantly slows the computations.\n",
    "\n",
    "omega = [1,0,1] #rotation axis, which need not be normalized\n",
    "\n",
    "mu = 10**6 # dynamic viscosity, poise\n",
    "\n",
    "a = 100 # meters\n",
    "b = 100 # meters\n",
    "c = 50 # meters"
   ]
  },
  {
   "cell_type": "markdown",
   "id": "8e4c7e30",
   "metadata": {},
   "source": [
    "Now we create the class object which will store the model, which we name \"example\". \n",
    "\n",
    "`szscale` sets the maximum allowable expansion of the body before the simulation will stop. In this case, `szscale=2` means that if this body has a radius of >200 m in any one dimension, the simulation will stop, since the maximum initial radius is 100 m."
   ]
  },
  {
   "cell_type": "code",
   "execution_count": 10,
   "id": "faca935f",
   "metadata": {},
   "outputs": [],
   "source": [
    "sim_object = SAMUS.model(\"basic_example\", a=a, b=b, c=c, mu=mu, rho=rho, \n",
    "                         omegavec=omega, szscale=2, n=n)"
   ]
  },
  {
   "cell_type": "markdown",
   "id": "065e0a10",
   "metadata": {},
   "source": [
    "Now we run the model. \n",
    "\n",
    "We use 10 time steps in each period, which fully samples the rotation. \n",
    "\n",
    "We use a trajectory jump tolerance of 1\\%, which is the default. A description of the trajectory jump can be found in the documentation for the relevant class method (printed at the end of this document) or in the text of the paper which describes the `SAMUS` package (Taylor et al 2022). \n",
    "\n",
    "We maintain the CFL criterion cutoff at C<sub>max</sub>=1, which is standard for most solvers.\n",
    "\n",
    "We do not save 3d `.pvd` models of the intermediate steps, only the initial and final values. \n",
    "\n",
    "We use the default function outputs. An example utilizing this modular capability of `SAMUS` is given in a separate file."
   ]
  },
  {
   "cell_type": "code",
   "execution_count": 17,
   "id": "c6dccdfe",
   "metadata": {},
   "outputs": [
    {
     "name": "stderr",
     "output_type": "stream",
     "text": [
      "/home/astertaylor/.local/lib/python3.8/site-packages/scipy/interpolate/fitpack2.py:253: UserWarning: \n",
      "A theoretically impossible result was found during the iteration\n",
      "process for finding a smoothing spline with fp = s: s too small.\n",
      "There is an approximation returned but the corresponding weighted sum\n",
      "of squared residuals does not satisfy the condition abs(fp-s)/s < tol.\n",
      "  warnings.warn(message)\n"
     ]
    },
    {
     "name": "stdout",
     "output_type": "stream",
     "text": [
      "Solving nonlinear variational problem.\n",
      "  Newton iteration 0: r (abs) = 1.009e+01 (tol = 1.000e-10) r (rel) = 1.000e+00 (tol = 1.000e-09)\n",
      "  Newton iteration 1: r (abs) = 5.207e-12 (tol = 1.000e-10) r (rel) = 5.158e-13 (tol = 1.000e-09)\n",
      "  Newton solver finished in 1 iterations and 1 linear solver iterations.\n",
      "-------------------------\n",
      "Now Running Cycle 0, t: 0.000e+00, Completed 0.00%, CFL: 0.000e+00\n",
      "Solving nonlinear variational problem.\n",
      "  Newton iteration 0: r (abs) = 3.910e+03 (tol = 1.000e-10) r (rel) = 1.000e+00 (tol = 1.000e-09)\n",
      "  Newton iteration 1: r (abs) = 1.929e-07 (tol = 1.000e-10) r (rel) = 4.933e-11 (tol = 1.000e-09)\n",
      "  Newton solver finished in 1 iterations and 1 linear solver iterations.\n",
      "Solving nonlinear variational problem.\n",
      "  Newton iteration 0: r (abs) = 6.207e-02 (tol = 1.000e-10) r (rel) = 1.000e+00 (tol = 1.000e-09)\n",
      "  Newton iteration 1: r (abs) = 2.847e-12 (tol = 1.000e-10) r (rel) = 4.588e-11 (tol = 1.000e-09)\n",
      "  Newton solver finished in 1 iterations and 1 linear solver iterations.\n",
      "-------------------------\n",
      "Now Running Cycle 1, t: 3.600e+03, Completed 0.83%, CFL: 3.778e-05\n",
      "Solving nonlinear variational problem.\n",
      "  Newton iteration 0: r (abs) = 5.847e+01 (tol = 1.000e-10) r (rel) = 1.000e+00 (tol = 1.000e-09)\n",
      "  Newton iteration 1: r (abs) = 5.542e-09 (tol = 1.000e-10) r (rel) = 9.478e-11 (tol = 1.000e-09)\n",
      "  Newton solver finished in 1 iterations and 1 linear solver iterations.\n",
      "Solving nonlinear variational problem.\n",
      "  Newton iteration 0: r (abs) = 7.270e-02 (tol = 1.000e-10) r (rel) = 1.000e+00 (tol = 1.000e-09)\n",
      "  Newton iteration 1: r (abs) = 2.694e-12 (tol = 1.000e-10) r (rel) = 3.706e-11 (tol = 1.000e-09)\n",
      "  Newton solver finished in 1 iterations and 1 linear solver iterations.\n",
      "-------------------------\n",
      "Now Running Cycle 2, t: 7.200e+03, Completed 1.67%, CFL: 4.497e-05\n",
      "Solving nonlinear variational problem.\n",
      "  Newton iteration 0: r (abs) = 1.109e+01 (tol = 1.000e-10) r (rel) = 1.000e+00 (tol = 1.000e-09)\n",
      "  Newton iteration 1: r (abs) = 1.995e-10 (tol = 1.000e-10) r (rel) = 1.800e-11 (tol = 1.000e-09)\n",
      "  Newton solver finished in 1 iterations and 1 linear solver iterations.\n",
      "Solving nonlinear variational problem.\n",
      "  Newton iteration 0: r (abs) = 7.466e-02 (tol = 1.000e-10) r (rel) = 1.000e+00 (tol = 1.000e-09)\n",
      "  Newton iteration 1: r (abs) = 2.612e-12 (tol = 1.000e-10) r (rel) = 3.499e-11 (tol = 1.000e-09)\n",
      "  Newton solver finished in 1 iterations and 1 linear solver iterations.\n",
      "-------------------------\n",
      "Now Running Cycle 3, t: 1.080e+04, Completed 2.50%, CFL: 4.642e-05\n",
      "Solving nonlinear variational problem.\n",
      "  Newton iteration 0: r (abs) = 2.279e+00 (tol = 1.000e-10) r (rel) = 1.000e+00 (tol = 1.000e-09)\n",
      "  Newton iteration 1: r (abs) = 9.935e-12 (tol = 1.000e-10) r (rel) = 4.358e-12 (tol = 1.000e-09)\n",
      "  Newton solver finished in 1 iterations and 1 linear solver iterations.\n",
      "Solving nonlinear variational problem.\n",
      "  Newton iteration 0: r (abs) = 7.504e-02 (tol = 1.000e-10) r (rel) = 1.000e+00 (tol = 1.000e-09)\n",
      "  Newton iteration 1: r (abs) = 2.630e-12 (tol = 1.000e-10) r (rel) = 3.504e-11 (tol = 1.000e-09)\n",
      "  Newton solver finished in 1 iterations and 1 linear solver iterations.\n",
      "-------------------------\n",
      "Now Running Cycle 4, t: 1.440e+04, Completed 3.33%, CFL: 4.671e-05\n",
      "Solving nonlinear variational problem.\n",
      "  Newton iteration 0: r (abs) = 5.374e-01 (tol = 1.000e-10) r (rel) = 1.000e+00 (tol = 1.000e-09)\n",
      "  Newton iteration 1: r (abs) = 3.530e-12 (tol = 1.000e-10) r (rel) = 6.568e-12 (tol = 1.000e-09)\n",
      "  Newton solver finished in 1 iterations and 1 linear solver iterations.\n"
     ]
    },
    {
     "ename": "KeyboardInterrupt",
     "evalue": "",
     "output_type": "error",
     "traceback": [
      "\u001b[0;31m---------------------------------------------------------------------------\u001b[0m",
      "\u001b[0;31mKeyboardInterrupt\u001b[0m                         Traceback (most recent call last)",
      "Input \u001b[0;32mIn [17]\u001b[0m, in \u001b[0;36m<cell line: 1>\u001b[0;34m()\u001b[0m\n\u001b[0;32m----> 1\u001b[0m frame, div \u001b[38;5;241m=\u001b[39m \u001b[43msim_object\u001b[49m\u001b[38;5;241;43m.\u001b[39;49m\u001b[43mrun_model\u001b[49m\u001b[43m(\u001b[49m\u001b[43mnsrot\u001b[49m\u001b[38;5;241;43m=\u001b[39;49m\u001b[38;5;241;43m10\u001b[39;49m\u001b[43m,\u001b[49m\u001b[43m \u001b[49m\u001b[38;5;66;43;03m# number of steps per rotation\u001b[39;49;00m\n\u001b[1;32m      2\u001b[0m \u001b[43m                                 \u001b[49m\u001b[43mrtol\u001b[49m\u001b[38;5;241;43m=\u001b[39;49m\u001b[38;5;241;43m0.01\u001b[39;49m\u001b[43m,\u001b[49m\u001b[43m \u001b[49m\u001b[38;5;66;43;03m# setting a tolerance of 1%\u001b[39;49;00m\n\u001b[1;32m      3\u001b[0m \u001b[43m                                 \u001b[49m\u001b[43mperiod\u001b[49m\u001b[38;5;241;43m=\u001b[39;49m\u001b[43mp\u001b[49m\u001b[43m,\u001b[49m\u001b[43m \u001b[49m\u001b[38;5;66;43;03m# using a period of 10 hours\u001b[39;49;00m\n\u001b[1;32m      4\u001b[0m \u001b[43m                                 \u001b[49m\u001b[43mCmax\u001b[49m\u001b[38;5;241;43m=\u001b[39;49m\u001b[38;5;241;43m1\u001b[39;49m\u001b[43m,\u001b[49m\u001b[43m \u001b[49m\u001b[38;5;66;43;03m# setting the CFL criterion to 1\u001b[39;49;00m\n\u001b[1;32m      5\u001b[0m \u001b[43m                                 \u001b[49m\u001b[43msavesteps\u001b[49m\u001b[38;5;241;43m=\u001b[39;49m\u001b[38;5;28;43;01mFalse\u001b[39;49;00m\u001b[43m,\u001b[49m\u001b[43m \u001b[49m\u001b[38;5;66;43;03m# no models of intermediate steps\u001b[39;49;00m\n\u001b[1;32m      6\u001b[0m \u001b[43m                                 \u001b[49m\u001b[43mdata_name\u001b[49m\u001b[38;5;241;43m=\u001b[39;49m\u001b[38;5;124;43m\"\u001b[39;49m\u001b[38;5;124;43mexample_traj\u001b[39;49m\u001b[38;5;124;43m\"\u001b[39;49m\u001b[43m,\u001b[49m\u001b[43m \u001b[49m\u001b[38;5;66;43;03m# name of the csv file holding the trajectory data\u001b[39;49;00m\n\u001b[1;32m      7\u001b[0m \u001b[43m                                 \u001b[49m\u001b[43mfuncs\u001b[49m\u001b[38;5;241;43m=\u001b[39;49m\u001b[43m[\u001b[49m\u001b[38;5;124;43m'\u001b[39;49m\u001b[38;5;124;43mmoment_of_inertia\u001b[39;49m\u001b[38;5;124;43m'\u001b[39;49m\u001b[43m,\u001b[49m\u001b[38;5;124;43m'\u001b[39;49m\u001b[38;5;124;43mprinc_axes\u001b[39;49m\u001b[38;5;124;43m'\u001b[39;49m\u001b[43m]\u001b[49m\u001b[43m)\u001b[49m\n",
      "File \u001b[0;32m~/.local/lib/python3.8/site-packages/SAMUS/modelFile.py:1361\u001b[0m, in \u001b[0;36mmodel.run_model\u001b[0;34m(self, nsrot, rtol, period, Cmax, savesteps, data_name, funcs)\u001b[0m\n\u001b[1;32m   1357\u001b[0m \u001b[38;5;66;03m# run the simulation, alternating between the rotation cycles and the\u001b[39;00m\n\u001b[1;32m   1358\u001b[0m \u001b[38;5;66;03m# trajectory steps until the time reaches the end or the simulation\u001b[39;00m\n\u001b[1;32m   1359\u001b[0m \u001b[38;5;66;03m# diverges\u001b[39;00m\n\u001b[1;32m   1360\u001b[0m \u001b[38;5;28;01mwhile\u001b[39;00m (\u001b[38;5;28mself\u001b[39m\u001b[38;5;241m.\u001b[39mt \u001b[38;5;241m<\u001b[39m\u001b[38;5;241m=\u001b[39m \u001b[38;5;28mself\u001b[39m\u001b[38;5;241m.\u001b[39mend_time) \u001b[38;5;129;01mand\u001b[39;00m \u001b[38;5;129;01mnot\u001b[39;00m (\u001b[38;5;28mself\u001b[39m\u001b[38;5;241m.\u001b[39mdiverged):\n\u001b[0;32m-> 1361\u001b[0m     \u001b[38;5;28;43mself\u001b[39;49m\u001b[38;5;241;43m.\u001b[39;49m\u001b[43mcompute_rotation\u001b[49m\u001b[43m(\u001b[49m\u001b[43m)\u001b[49m\n\u001b[1;32m   1362\u001b[0m     \u001b[38;5;28mself\u001b[39m\u001b[38;5;241m.\u001b[39mcompute_trajectory_step()\n\u001b[1;32m   1364\u001b[0m \u001b[38;5;66;03m# save the functions at the end of the runs\u001b[39;00m\n",
      "File \u001b[0;32m~/.local/lib/python3.8/site-packages/SAMUS/modelFile.py:1160\u001b[0m, in \u001b[0;36mmodel.compute_rotation\u001b[0;34m(self, ncyc)\u001b[0m\n\u001b[1;32m   1157\u001b[0m \u001b[38;5;28mself\u001b[39m\u001b[38;5;241m.\u001b[39msum_u()\n\u001b[1;32m   1159\u001b[0m \u001b[38;5;66;03m# move the mesh\u001b[39;00m\n\u001b[0;32m-> 1160\u001b[0m \u001b[38;5;28;43mself\u001b[39;49m\u001b[38;5;241;43m.\u001b[39;49m\u001b[43mmove_mesh\u001b[49m\u001b[43m(\u001b[49m\u001b[38;5;28;43mself\u001b[39;49m\u001b[38;5;241;43m.\u001b[39;49m\u001b[43mdt\u001b[49m\u001b[43m)\u001b[49m\n\u001b[1;32m   1162\u001b[0m \u001b[38;5;66;03m# update the time\u001b[39;00m\n\u001b[1;32m   1163\u001b[0m \u001b[38;5;28mself\u001b[39m\u001b[38;5;241m.\u001b[39mt \u001b[38;5;241m+\u001b[39m\u001b[38;5;241m=\u001b[39m \u001b[38;5;28mself\u001b[39m\u001b[38;5;241m.\u001b[39mdt\n",
      "File \u001b[0;32m~/.local/lib/python3.8/site-packages/SAMUS/modelFile.py:997\u001b[0m, in \u001b[0;36mmodel.move_mesh\u001b[0;34m(self, dt)\u001b[0m\n\u001b[1;32m    980\u001b[0m \u001b[38;5;124;03m\"\"\"\u001b[39;00m\n\u001b[1;32m    981\u001b[0m \u001b[38;5;124;03mMove the mesh, with velocity self.u, over time dt.\u001b[39;00m\n\u001b[1;32m    982\u001b[0m \n\u001b[0;32m   (...)\u001b[0m\n\u001b[1;32m    994\u001b[0m \n\u001b[1;32m    995\u001b[0m \u001b[38;5;124;03m\"\"\"\u001b[39;00m\n\u001b[1;32m    996\u001b[0m \u001b[38;5;66;03m# get the displacement vector from dt*u\u001b[39;00m\n\u001b[0;32m--> 997\u001b[0m move \u001b[38;5;241m=\u001b[39m \u001b[43mproject\u001b[49m\u001b[43m(\u001b[49m\u001b[43mConstant\u001b[49m\u001b[43m(\u001b[49m\u001b[43mdt\u001b[49m\u001b[43m)\u001b[49m\u001b[38;5;241;43m*\u001b[39;49m\u001b[38;5;28;43mself\u001b[39;49m\u001b[38;5;241;43m.\u001b[39;49m\u001b[43mu\u001b[49m\u001b[43m,\u001b[49m\u001b[43m \u001b[49m\u001b[38;5;28;43mself\u001b[39;49m\u001b[38;5;241;43m.\u001b[39;49m\u001b[43mV\u001b[49m\u001b[43m)\u001b[49m\n\u001b[1;32m    999\u001b[0m \u001b[38;5;66;03m# use ALE to move the mesh.\u001b[39;00m\n\u001b[1;32m   1000\u001b[0m \u001b[38;5;66;03m# this updates all functions defined on the mesh\u001b[39;00m\n\u001b[1;32m   1001\u001b[0m ALE\u001b[38;5;241m.\u001b[39mmove(\u001b[38;5;28mself\u001b[39m\u001b[38;5;241m.\u001b[39mmesh, move)\n",
      "File \u001b[0;32m/usr/lib/petsc/lib/python3/dist-packages/dolfin/fem/projection.py:138\u001b[0m, in \u001b[0;36mproject\u001b[0;34m(v, V, bcs, mesh, function, solver_type, preconditioner_type, form_compiler_parameters)\u001b[0m\n\u001b[1;32m    136\u001b[0m \u001b[38;5;28;01mif\u001b[39;00m function \u001b[38;5;129;01mis\u001b[39;00m \u001b[38;5;28;01mNone\u001b[39;00m:\n\u001b[1;32m    137\u001b[0m     function \u001b[38;5;241m=\u001b[39m Function(V)\n\u001b[0;32m--> 138\u001b[0m \u001b[43mcpp\u001b[49m\u001b[38;5;241;43m.\u001b[39;49m\u001b[43mla\u001b[49m\u001b[38;5;241;43m.\u001b[39;49m\u001b[43msolve\u001b[49m\u001b[43m(\u001b[49m\u001b[43mA\u001b[49m\u001b[43m,\u001b[49m\u001b[43m \u001b[49m\u001b[43mfunction\u001b[49m\u001b[38;5;241;43m.\u001b[39;49m\u001b[43mvector\u001b[49m\u001b[43m(\u001b[49m\u001b[43m)\u001b[49m\u001b[43m,\u001b[49m\u001b[43m \u001b[49m\u001b[43mb\u001b[49m\u001b[43m,\u001b[49m\u001b[43m \u001b[49m\u001b[43msolver_type\u001b[49m\u001b[43m,\u001b[49m\u001b[43m \u001b[49m\u001b[43mpreconditioner_type\u001b[49m\u001b[43m)\u001b[49m\n\u001b[1;32m    140\u001b[0m \u001b[38;5;28;01mreturn\u001b[39;00m function\n",
      "\u001b[0;31mKeyboardInterrupt\u001b[0m: "
     ]
    }
   ],
   "source": [
    "frame, div = sim_object.run_model(nsrot=10, # number of steps per rotation\n",
    "                                 rtol=0.01, # setting a tolerance of 1%\n",
    "                                 period=p, # using a period of 10 hours\n",
    "                                 Cmax=1, # setting the CFL criterion to 1\n",
    "                                 savesteps=False, # no models of intermediate steps\n",
    "                                 data_name=\"example_traj\", # name of the csv file holding the trajectory data\n",
    "                                 funcs=['moment_of_inertia','princ_axes']) # functions for use in the output"
   ]
  },
  {
   "cell_type": "markdown",
   "id": "60655784",
   "metadata": {},
   "source": [
    "The output `frame` is a `pandas` DataFrame storing the output function values at each time step. \n",
    "\n",
    "The output `div` is a simple boolean, indicating whether or not the simulation diverged at any point over the trajectory. If it did, the simulation stopped early, but this is useful for creating and controlling multiple simulation runs. "
   ]
  },
  {
   "cell_type": "code",
   "execution_count": 19,
   "id": "9c5223fc",
   "metadata": {
    "scrolled": true
   },
   "outputs": [
    {
     "name": "stdout",
     "output_type": "stream",
     "text": [
      "'frame' type:\n"
     ]
    }
   ],
   "source": [
    "print(\"\\'frame\\' type:\",type(frame))\n",
    "print(frame)\n",
    "print(\"\\'div\\' type:\",type(div),\"\\'div\\' value:\",div)"
   ]
  },
  {
   "cell_type": "markdown",
   "id": "52c3783c",
   "metadata": {},
   "source": [
    "Finally, we reset the simulation to its original position. We provide no arguments, so it simply resets to the form it was in when the object was initialized. This functionality also allows for the creation of new models from the old. "
   ]
  },
  {
   "cell_type": "code",
   "execution_count": null,
   "id": "24e1d74d",
   "metadata": {},
   "outputs": [],
   "source": [
    "sim_object.reset_model()"
   ]
  },
  {
   "cell_type": "markdown",
   "id": "f97d5702",
   "metadata": {},
   "source": [
    "The `help` function is useful for investigating the structure of `SAMUS` and the use of its individual functions."
   ]
  },
  {
   "cell_type": "code",
   "execution_count": 13,
   "id": "3f8a0df0",
   "metadata": {},
   "outputs": [
    {
     "name": "stdout",
     "output_type": "stream",
     "text": [
      "Help on method compute_trajectory_step in module SAMUS.modelFile:\n",
      "\n",
      "compute_trajectory_step() method of SAMUS.modelFile.model instance\n",
      "    Compute a jump along the trajectory, using the average velocity.\n",
      "    \n",
      "    Ensure that the CFL criterion is met, and keep the change in\n",
      "    heliocentric distance to a prespecified tolerance. Assists in improving\n",
      "    efficiency of the simulation. This assumes a linear change in the\n",
      "    heliocentric distance over the jump, which is generally true. Use the\n",
      "    average velocity over the several rotation cycles prior, which is more\n",
      "    accurate for small velocity.\n",
      "    \n",
      "    Returns\n",
      "    -------\n",
      "    None.\n",
      "\n"
     ]
    }
   ],
   "source": [
    "help(sim_object.compute_trajectory_step)"
   ]
  }
 ],
 "metadata": {
  "kernelspec": {
   "display_name": "Python 3 (ipykernel)",
   "language": "python",
   "name": "python3"
  },
  "language_info": {
   "codemirror_mode": {
    "name": "ipython",
    "version": 3
   },
   "file_extension": ".py",
   "mimetype": "text/x-python",
   "name": "python",
   "nbconvert_exporter": "python",
   "pygments_lexer": "ipython3",
   "version": "3.8.10"
  }
 },
 "nbformat": 4,
 "nbformat_minor": 5
}
