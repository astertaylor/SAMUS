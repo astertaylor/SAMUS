{
 "cells": [
  {
   "cell_type": "markdown",
   "id": "2994baeb",
   "metadata": {},
   "source": [
    "This is an example of the usage of the modular aspects of `SAMUS`, in particular the addition of user-added output functions. It simulates an ellipsoid of size 100\\:100\\:50, on a short trajectory given by **example_traj.csv**, with two additional output functions.\n",
    "\n",
    "Note that this example is quite slow on Jupyter Notebook. It is recommended that you run this code via the similar `.py` script in this folder, and run the command `mpirun -n 1 python3 modularity_example.py` to execute this. \n",
    "\n",
    "Firstly, we import the necessary packages for this example."
   ]
  },
  {
   "cell_type": "code",
   "execution_count": 1,
   "id": "33c28d5e",
   "metadata": {},
   "outputs": [],
   "source": [
    "import SAMUS"
   ]
  },
  {
   "cell_type": "markdown",
   "id": "566b50b5",
   "metadata": {},
   "source": [
    "Now we define a function which doesn't use class variables, which returns an integer 1 and a string \"test\". \n",
    "\n",
    "Like all user-defined functions for `SAMUS`, there must be two outputs: a list containing the actual output values, and a list containing the names of those output values. "
   ]
  },
  {
   "cell_type": "code",
   "execution_count": 2,
   "id": "93ea485f",
   "metadata": {},
   "outputs": [],
   "source": [
    "def test_func():\n",
    "    return([1, \"test\"], [\"ones\", \"string\"])"
   ]
  },
  {
   "cell_type": "markdown",
   "id": "65718eb0",
   "metadata": {},
   "source": [
    "We also define a function which uses class variables, returning the viscosity of the model at each time step."
   ]
  },
  {
   "cell_type": "code",
   "execution_count": 3,
   "id": "48e514bd",
   "metadata": {},
   "outputs": [],
   "source": [
    "def get_viscosity(self):\n",
    "    return(float(self.mu), \"Viscosity\")"
   ]
  },
  {
   "cell_type": "markdown",
   "id": "19fdc103",
   "metadata": {},
   "source": [
    "Now we create parameters for the class, using the same as we used in the basic tutorial. "
   ]
  },
  {
   "cell_type": "code",
   "execution_count": 4,
   "id": "07ca3e72",
   "metadata": {},
   "outputs": [],
   "source": [
    "rho = 0.5 # density\n",
    "\n",
    "p = 10 # period, hours\n",
    "\n",
    "n = 0 # number of mesh refinements. Increasing this number significantly slows the computations.\n",
    "\n",
    "omega = [1,0,1] #rotation axis, which need not be normalized\n",
    "\n",
    "mu = 10**6 # dynamic viscosity, poise\n",
    "\n",
    "a = 100 # meters\n",
    "b = 100 # meters\n",
    "c = 50 # meters"
   ]
  },
  {
   "cell_type": "markdown",
   "id": "b6d00bea",
   "metadata": {},
   "source": [
    "Now we create the class, which we name \"modularity_example\"."
   ]
  },
  {
   "cell_type": "code",
   "execution_count": 5,
   "id": "1a357eb8",
   "metadata": {},
   "outputs": [],
   "source": [
    "mod_object = SAMUS.model(\"modularity_example\", a=a, b=b, c=c, mu=mu, rho=rho, \n",
    "                         omegavec=omega, szscale=2, n=n)"
   ]
  },
  {
   "cell_type": "markdown",
   "id": "60e8904e",
   "metadata": {},
   "source": [
    "We now run the simulation for a brief period, with only 1 time step per rotation. We also use the functions defined above, but otherwise use the same parameters as in the basic tutorial. "
   ]
  },
  {
   "cell_type": "code",
   "execution_count": null,
   "id": "160c6267",
   "metadata": {},
   "outputs": [],
   "source": [
    "frame, _ = sim_object.run_model(nsrot=1, # number of steps per rotation\n",
    "                                 rtol=0.01, # setting a tolerance of 1%\n",
    "                                 period=p, # using a period of 10 hours\n",
    "                                 Cmax=1, # setting the CFL criterion to 1\n",
    "                                 savesteps=False, # no models of intermediate steps\n",
    "                                 data_name=\"example_traj\", # name of the csv file holding the trajectory data\n",
    "                                 funcs=['moment_of_inertia','princ_axes', # predefined functions\n",
    "                                        test_func,get_viscosity]) # functions defined here"
   ]
  },
  {
   "cell_type": "markdown",
   "id": "92a1e944",
   "metadata": {},
   "source": [
    "We now print the output frame, demonstrating that these functions are effective and are included in the outputs. "
   ]
  },
  {
   "cell_type": "code",
   "execution_count": null,
   "id": "da9958e0",
   "metadata": {},
   "outputs": [],
   "source": [
    "print(\"Frame:\",frame)"
   ]
  }
 ],
 "metadata": {
  "kernelspec": {
   "display_name": "Python 3 (ipykernel)",
   "language": "python",
   "name": "python3"
  },
  "language_info": {
   "codemirror_mode": {
    "name": "ipython",
    "version": 3
   },
   "file_extension": ".py",
   "mimetype": "text/x-python",
   "name": "python",
   "nbconvert_exporter": "python",
   "pygments_lexer": "ipython3",
   "version": "3.8.10"
  }
 },
 "nbformat": 4,
 "nbformat_minor": 5
}
